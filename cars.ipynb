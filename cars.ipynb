{
 "cells": [
  {
   "cell_type": "code",
   "execution_count": 84,
   "metadata": {},
   "outputs": [],
   "source": [
    "# Name: Lubna Mohamed Abdirahman, Lab 011, X500: moha0825\n",
    "# Partner Name: Allison Minder, Lab 011, X500: minde027\n",
    "# Partner Name: Jinhua Ryu, Lab 011, X500: freem623\n",
    "import csv"
   ]
  },
  {
   "cell_type": "code",
   "execution_count": 85,
   "metadata": {},
   "outputs": [
    {
     "data": {
      "text/plain": [
       "1.000"
      ]
     },
     "execution_count": 85,
     "metadata": {},
     "output_type": "execute_result"
    }
   ],
   "source": [
    "%precision 3\n",
    "1.0"
   ]
  },
  {
   "cell_type": "code",
   "execution_count": 86,
   "metadata": {},
   "outputs": [],
   "source": [
    "with open('cars_mpg.csv') as f:\n",
    "    mpg = list(csv.DictReader(f))"
   ]
  },
  {
   "cell_type": "code",
   "execution_count": 88,
   "metadata": {},
   "outputs": [
    {
     "data": {
      "text/plain": [
       "[16.859, 23.440]"
      ]
     },
     "execution_count": 88,
     "metadata": {},
     "output_type": "execute_result"
    }
   ],
   "source": [
    "# Task 1 - Worksheet 1 \n",
    "# Purpose: Write the code that calculates the average miles per gallon (mpg) for \n",
    "#          city driving and the average mpg for highway driving.\n",
    "# Output: A list with two floats will be created. The first float will be the average mpg for\n",
    "#         city driving and the second the average mpg for highway driving. Your list must be the \n",
    "#         final thing displayed. \n",
    "\n",
    "a = []\n",
    "a.append(sum(int(d['cyl']) for d in mpg)/len(mpg))\n",
    "b = []\n",
    "b = [sum(int(d['cty']) for d in mpg)/len(mpg), sum(int(d['hwy']) for d in mpg)/len(mpg)]\n",
    "b"
   ]
  },
  {
   "cell_type": "code",
   "execution_count": 52,
   "metadata": {},
   "outputs": [
    {
     "name": "stdout",
     "output_type": "stream",
     "text": [
      "{'hyundai', 'freeway', 'chevron', 'land rover', 'lincoln', 'volks', 'mercury', 'jeep', 'doggie', 'tinker', 'silver', 'nissan', 'honda', 'subbie', 'allude'}\n"
     ]
    },
    {
     "data": {
      "text/plain": [
       "15"
      ]
     },
     "execution_count": 52,
     "metadata": {},
     "output_type": "execute_result"
    }
   ],
   "source": [
    "# Task 2 - Worksheet 1 \n",
    "# Purpose: Write the code that shows the different types of manufacturers. \n",
    "# Output: A set with the names of the different types of car manufactuerers. Be sure to display\n",
    "#         the set as an output.\n",
    "manu = set(m['manufacturer'] for m in mpg)\n",
    "print(manu)\n",
    "len(manu)"
   ]
  },
  {
   "cell_type": "code",
   "execution_count": 92,
   "metadata": {},
   "outputs": [
    {
     "data": {
      "text/plain": [
       "[[(18.643, 'hyundai'),\n",
       "  (14.000, 'freeway'),\n",
       "  (15.000, 'chevron'),\n",
       "  (11.500, 'land rover'),\n",
       "  (11.333, 'lincoln'),\n",
       "  (20.926, 'volks'),\n",
       "  (13.250, 'mercury'),\n",
       "  (13.500, 'jeep'),\n",
       "  (13.135, 'doggie'),\n",
       "  (18.529, 'tinker'),\n",
       "  (17.000, 'silver'),\n",
       "  (18.077, 'nissan'),\n",
       "  (24.444, 'honda'),\n",
       "  (19.286, 'subbie'),\n",
       "  (17.611, 'allude')],\n",
       " [(26.857, 'hyundai'),\n",
       "  (19.360, 'freeway'),\n",
       "  (21.895, 'chevron'),\n",
       "  (16.500, 'land rover'),\n",
       "  (17.000, 'lincoln'),\n",
       "  (29.222, 'volks'),\n",
       "  (18.000, 'mercury'),\n",
       "  (17.625, 'jeep'),\n",
       "  (17.946, 'doggie'),\n",
       "  (24.912, 'tinker'),\n",
       "  (26.400, 'silver'),\n",
       "  (24.615, 'nissan'),\n",
       "  (32.556, 'honda'),\n",
       "  (25.571, 'subbie'),\n",
       "  (26.444, 'allude')]]"
      ]
     },
     "execution_count": 92,
     "metadata": {},
     "output_type": "execute_result"
    }
   ],
   "source": [
    "# Task 3 - Worksheet 1\n",
    "# Purpose: Write the code that calculates the average mpg city driving and the average mpg for highway\n",
    "#          driving for each manufactuer.\n",
    "# Output: A list of two lists will be created. The first list will be for the city and the second will\n",
    "#         be for the highway.\n",
    "\n",
    "ByManuAvgNumCty=[]\n",
    "ByManuAvgNumHwy=[]\n",
    "all=[]\n",
    "manu = set(m['manufacturer'] for m in mpg)\n",
    "for mu in manu:\n",
    "    total_num_of_cty=0\n",
    "    total_num_of_hwy=0\n",
    "    count_cty=0\n",
    "    count_hwy=0\n",
    "    for rec in mpg:\n",
    "        if rec['manufacturer']==mu:\n",
    "            count_cty=count_cty+1\n",
    "            total_num_of_cty=total_num_of_cty+float(rec['cty'])\n",
    "    ByManuAvgNumCty.append((round(total_num_of_cty/count_cty,3),mu))\n",
    "    for rec in mpg:\n",
    "        if rec['manufacturer']==mu:\n",
    "            count_hwy=count_hwy+1\n",
    "            total_num_of_hwy=total_num_of_hwy+float(rec['hwy'])\n",
    "    ByManuAvgNumHwy.append((round(total_num_of_hwy/count_hwy,3),mu))\n",
    "all=[ByManuAvgNumCty]+[ByManuAvgNumHwy]\n",
    "all"
   ]
  },
  {
   "cell_type": "code",
   "execution_count": 93,
   "metadata": {},
   "outputs": [],
   "source": [
    "# Task 4 - Worksheet 1\n",
    "# Purpose: Write the code that sorts the two lists by the mpg. \n",
    "# Output: An ordered list of the two lists in the embedded list from Task 3 that sorts by mpg.\n",
    "\n",
    "all[0].sort(key=lambda x: x[0])"
   ]
  },
  {
   "cell_type": "code",
   "execution_count": 94,
   "metadata": {},
   "outputs": [],
   "source": [
    "# Task 4 - Worksheet 1\n",
    "# Purpose: Write the code that sorts the two lists by the mpg. \n",
    "# Output: An ordered list of the two lists in the embedded list from Task 3 that sorts by mpg.\n",
    "\n",
    "all[1].sort(key=lambda x: x[0])"
   ]
  },
  {
   "cell_type": "code",
   "execution_count": 95,
   "metadata": {},
   "outputs": [
    {
     "data": {
      "text/plain": [
       "[[(11.333, 'lincoln'),\n",
       "  (11.500, 'land rover'),\n",
       "  (13.135, 'doggie'),\n",
       "  (13.250, 'mercury'),\n",
       "  (13.500, 'jeep'),\n",
       "  (14.000, 'freeway'),\n",
       "  (15.000, 'chevron'),\n",
       "  (17.000, 'silver'),\n",
       "  (17.611, 'allude'),\n",
       "  (18.077, 'nissan'),\n",
       "  (18.529, 'tinker'),\n",
       "  (18.643, 'hyundai'),\n",
       "  (19.286, 'subbie'),\n",
       "  (20.926, 'volks'),\n",
       "  (24.444, 'honda')],\n",
       " [(16.500, 'land rover'),\n",
       "  (17.000, 'lincoln'),\n",
       "  (17.625, 'jeep'),\n",
       "  (17.946, 'doggie'),\n",
       "  (18.000, 'mercury'),\n",
       "  (19.360, 'freeway'),\n",
       "  (21.895, 'chevron'),\n",
       "  (24.615, 'nissan'),\n",
       "  (24.912, 'tinker'),\n",
       "  (25.571, 'subbie'),\n",
       "  (26.400, 'silver'),\n",
       "  (26.444, 'allude'),\n",
       "  (26.857, 'hyundai'),\n",
       "  (29.222, 'volks'),\n",
       "  (32.556, 'honda')]]"
      ]
     },
     "execution_count": 95,
     "metadata": {},
     "output_type": "execute_result"
    }
   ],
   "source": [
    "# Task 4 - Worksheet 1\n",
    "# Purpose: Write the code that sorts the two lists by the mpg. \n",
    "# Output: An ordered list of the two lists in the embedded list from Task 3 that sorts by mpg.\n",
    "\n",
    "all"
   ]
  },
  {
   "cell_type": "code",
   "execution_count": 96,
   "metadata": {},
   "outputs": [
    {
     "data": {
      "text/html": [
       "<div>\n",
       "<style scoped>\n",
       "    .dataframe tbody tr th:only-of-type {\n",
       "        vertical-align: middle;\n",
       "    }\n",
       "\n",
       "    .dataframe tbody tr th {\n",
       "        vertical-align: top;\n",
       "    }\n",
       "\n",
       "    .dataframe thead th {\n",
       "        text-align: right;\n",
       "    }\n",
       "</style>\n",
       "<table border=\"1\" class=\"dataframe\">\n",
       "  <thead>\n",
       "    <tr style=\"text-align: right;\">\n",
       "      <th></th>\n",
       "      <th>Unnamed: 0</th>\n",
       "      <th>manufacturer</th>\n",
       "      <th>model</th>\n",
       "      <th>displ</th>\n",
       "      <th>year</th>\n",
       "      <th>cyl</th>\n",
       "      <th>trans</th>\n",
       "      <th>drv</th>\n",
       "      <th>cty</th>\n",
       "      <th>hwy</th>\n",
       "      <th>fl</th>\n",
       "      <th>class</th>\n",
       "    </tr>\n",
       "  </thead>\n",
       "  <tbody>\n",
       "    <tr>\n",
       "      <th>0</th>\n",
       "      <td>1</td>\n",
       "      <td>allude</td>\n",
       "      <td>excel</td>\n",
       "      <td>1.8</td>\n",
       "      <td>1999</td>\n",
       "      <td>4</td>\n",
       "      <td>auto(l5)</td>\n",
       "      <td>f</td>\n",
       "      <td>18</td>\n",
       "      <td>29</td>\n",
       "      <td>p</td>\n",
       "      <td>compact</td>\n",
       "    </tr>\n",
       "    <tr>\n",
       "      <th>1</th>\n",
       "      <td>2</td>\n",
       "      <td>allude</td>\n",
       "      <td>excel</td>\n",
       "      <td>1.8</td>\n",
       "      <td>1999</td>\n",
       "      <td>4</td>\n",
       "      <td>manual(m5)</td>\n",
       "      <td>f</td>\n",
       "      <td>21</td>\n",
       "      <td>29</td>\n",
       "      <td>p</td>\n",
       "      <td>compact</td>\n",
       "    </tr>\n",
       "    <tr>\n",
       "      <th>2</th>\n",
       "      <td>3</td>\n",
       "      <td>allude</td>\n",
       "      <td>excel</td>\n",
       "      <td>2.0</td>\n",
       "      <td>2008</td>\n",
       "      <td>4</td>\n",
       "      <td>manual(m6)</td>\n",
       "      <td>f</td>\n",
       "      <td>20</td>\n",
       "      <td>31</td>\n",
       "      <td>p</td>\n",
       "      <td>compact</td>\n",
       "    </tr>\n",
       "    <tr>\n",
       "      <th>3</th>\n",
       "      <td>4</td>\n",
       "      <td>allude</td>\n",
       "      <td>excel</td>\n",
       "      <td>2.0</td>\n",
       "      <td>2008</td>\n",
       "      <td>4</td>\n",
       "      <td>auto(av)</td>\n",
       "      <td>f</td>\n",
       "      <td>21</td>\n",
       "      <td>30</td>\n",
       "      <td>p</td>\n",
       "      <td>compact</td>\n",
       "    </tr>\n",
       "    <tr>\n",
       "      <th>4</th>\n",
       "      <td>5</td>\n",
       "      <td>allude</td>\n",
       "      <td>excel</td>\n",
       "      <td>2.8</td>\n",
       "      <td>1999</td>\n",
       "      <td>6</td>\n",
       "      <td>auto(l5)</td>\n",
       "      <td>f</td>\n",
       "      <td>16</td>\n",
       "      <td>26</td>\n",
       "      <td>p</td>\n",
       "      <td>compact</td>\n",
       "    </tr>\n",
       "  </tbody>\n",
       "</table>\n",
       "</div>"
      ],
      "text/plain": [
       "   Unnamed: 0 manufacturer  model  displ  year  cyl       trans drv  cty  hwy  \\\n",
       "0           1       allude  excel    1.8  1999    4    auto(l5)   f   18   29   \n",
       "1           2       allude  excel    1.8  1999    4  manual(m5)   f   21   29   \n",
       "2           3       allude  excel    2.0  2008    4  manual(m6)   f   20   31   \n",
       "3           4       allude  excel    2.0  2008    4    auto(av)   f   21   30   \n",
       "4           5       allude  excel    2.8  1999    6    auto(l5)   f   16   26   \n",
       "\n",
       "  fl    class  \n",
       "0  p  compact  \n",
       "1  p  compact  \n",
       "2  p  compact  \n",
       "3  p  compact  \n",
       "4  p  compact  "
      ]
     },
     "execution_count": 96,
     "metadata": {},
     "output_type": "execute_result"
    }
   ],
   "source": [
    "# Task 5 - Worksheet 1 \n",
    "# Purpose: To import the cars_mpg.csv file into a pandas dataframe. \n",
    "# Output: To import the said file and to then display the head of the dataframe. \n",
    "\n",
    "import pandas as pd\n",
    "pd?\n",
    "from pandas import DataFrame, Series\n",
    "df = pd.read_csv('cars_mpg.csv')\n",
    "df.head()"
   ]
  },
  {
   "cell_type": "code",
   "execution_count": 101,
   "metadata": {},
   "outputs": [
    {
     "data": {
      "text/plain": [
       "35"
      ]
     },
     "execution_count": 101,
     "metadata": {},
     "output_type": "execute_result"
    }
   ],
   "source": [
    "# Task 6 - Worksheet 1 \n",
    "# Purpose: Write the code that calculates the maximum mpg for both city and highway driving. \n",
    "# Output: A calculated maximum mpg for both city and highway driving using dataframe(s).\n",
    "\n",
    "df1['cty'].max()"
   ]
  },
  {
   "cell_type": "code",
   "execution_count": 98,
   "metadata": {},
   "outputs": [
    {
     "data": {
      "text/plain": [
       "44"
      ]
     },
     "execution_count": 98,
     "metadata": {},
     "output_type": "execute_result"
    }
   ],
   "source": [
    "# Task 6 - Worksheet 1 \n",
    "# Purpose: Write the code that calculates the maximum mpg for both city and highway driving. \n",
    "# Output: A calculated maximum mpg for both city and highway driving using dataframe(s).\n",
    "\n",
    "df1['hwy'].max()"
   ]
  },
  {
   "cell_type": "code",
   "execution_count": 99,
   "metadata": {},
   "outputs": [
    {
     "data": {
      "text/html": [
       "<div>\n",
       "<style scoped>\n",
       "    .dataframe tbody tr th:only-of-type {\n",
       "        vertical-align: middle;\n",
       "    }\n",
       "\n",
       "    .dataframe tbody tr th {\n",
       "        vertical-align: top;\n",
       "    }\n",
       "\n",
       "    .dataframe thead th {\n",
       "        text-align: right;\n",
       "    }\n",
       "</style>\n",
       "<table border=\"1\" class=\"dataframe\">\n",
       "  <thead>\n",
       "    <tr style=\"text-align: right;\">\n",
       "      <th></th>\n",
       "      <th>mpg_cty</th>\n",
       "      <th>mpg_hwy</th>\n",
       "    </tr>\n",
       "  </thead>\n",
       "  <tbody>\n",
       "    <tr>\n",
       "      <th>0</th>\n",
       "      <td>16.858974</td>\n",
       "      <td>23.440171</td>\n",
       "    </tr>\n",
       "  </tbody>\n",
       "</table>\n",
       "</div>"
      ],
      "text/plain": [
       "     mpg_cty    mpg_hwy\n",
       "0  16.858974  23.440171"
      ]
     },
     "execution_count": 99,
     "metadata": {},
     "output_type": "execute_result"
    }
   ],
   "source": [
    "# Task 7 - Worksheet 1\n",
    "# Purpose: Write the code that calculates the average mpg for city driving and the average\n",
    "#          mpg for highway driving. \n",
    "# Output: Store the results in a dataframe with the column names being mpg_city and mpg_highway. \n",
    "\n",
    "AvgCty = sum(df['cty'])/len(df['cty'])\n",
    "AvgHwy = sum(df['hwy'])/len(df['hwy'])\n",
    "d = {'mpg_cty':[AvgCty],'mpg_hwy':[AvgHwy]}\n",
    "pd.DataFrame(d)"
   ]
  },
  {
   "cell_type": "code",
   "execution_count": 100,
   "metadata": {},
   "outputs": [
    {
     "data": {
      "text/plain": [
       "<matplotlib.axes._subplots.AxesSubplot at 0x115d95cf8>"
      ]
     },
     "execution_count": 100,
     "metadata": {},
     "output_type": "execute_result"
    },
    {
     "data": {
      "image/png": "[encoded data removed]",
      "text/plain": [
       "<Figure size 432x288 with 1 Axes>"
      ]
     },
     "metadata": {
      "needs_background": "light"
     },
     "output_type": "display_data"
    }
   ],
   "source": [
    "# Task 8 - Worksheet 1 \n",
    "# Purpose: To plot the mpg for highway driving \n",
    "# Output: A plot of the mpg for highway driving using the information from other tasks. \n",
    "\n",
    "import matplotlib.pyplot as plt\n",
    "%matplotlib inline\n",
    "df1['hwy'].plot.bar()"
   ]
  },
  {
   "cell_type": "code",
   "execution_count": null,
   "metadata": {},
   "outputs": [],
   "source": []
  }
 ],
 "metadata": {
  "kernelspec": {
   "display_name": "Python 3",
   "language": "python",
   "name": "python3"
  },
  "language_info": {
   "codemirror_mode": {
    "name": "ipython",
    "version": 3
   },
   "file_extension": ".py",
   "mimetype": "text/x-python",
   "name": "python",
   "nbconvert_exporter": "python",
   "pygments_lexer": "ipython3",
   "version": "3.7.1"
  }
 },
 "nbformat": 4,
 "nbformat_minor": 2
}
